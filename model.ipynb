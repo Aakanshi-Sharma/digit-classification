{
 "cells": [
  {
   "cell_type": "code",
   "execution_count": 1,
   "id": "d613a02d",
   "metadata": {},
   "outputs": [],
   "source": [
    "import tensorflow as tf\n",
    "import numpy as np\n",
    "from tensorflow import keras\n",
    "import matplotlib.pyplot as plt"
   ]
  },
  {
   "cell_type": "code",
   "execution_count": 2,
   "id": "89deda54",
   "metadata": {},
   "outputs": [],
   "source": [
    "(x_train, y_train), (x_test,y_test)=keras.datasets.mnist.load_data()"
   ]
  },
  {
   "cell_type": "code",
   "execution_count": 3,
   "id": "d3f6819d",
   "metadata": {},
   "outputs": [
    {
     "data": {
      "text/plain": [
       "60000"
      ]
     },
     "execution_count": 3,
     "metadata": {},
     "output_type": "execute_result"
    }
   ],
   "source": [
    "len(x_train)"
   ]
  },
  {
   "cell_type": "code",
   "execution_count": 4,
   "id": "b9751d9e",
   "metadata": {},
   "outputs": [
    {
     "data": {
      "text/plain": [
       "(60000, 28, 28)"
      ]
     },
     "execution_count": 4,
     "metadata": {},
     "output_type": "execute_result"
    }
   ],
   "source": [
    "x_train.shape"
   ]
  },
  {
   "cell_type": "code",
   "execution_count": 5,
   "id": "dc17ab4c",
   "metadata": {},
   "outputs": [
    {
     "data": {
      "text/plain": [
       "<matplotlib.image.AxesImage at 0x19c6535ce50>"
      ]
     },
     "execution_count": 5,
     "metadata": {},
     "output_type": "execute_result"
    },
    {
     "data": {
      "image/png": "[encoded data removed]",
      "text/plain": [
       "<Figure size 480x480 with 1 Axes>"
      ]
     },
     "metadata": {},
     "output_type": "display_data"
    }
   ],
   "source": [
    "plt.matshow(x_train[2])"
   ]
  },
  {
   "cell_type": "code",
   "execution_count": 6,
   "id": "b23de63d",
   "metadata": {},
   "outputs": [
    {
     "data": {
      "text/plain": [
       "4"
      ]
     },
     "execution_count": 6,
     "metadata": {},
     "output_type": "execute_result"
    }
   ],
   "source": [
    "y_train[2]"
   ]
  },
  {
   "cell_type": "code",
   "execution_count": 7,
   "id": "b8e547c3",
   "metadata": {},
   "outputs": [],
   "source": [
    "x_train=x_train/255\n",
    "x_test=x_test/255"
   ]
  },
  {
   "cell_type": "code",
   "execution_count": 8,
   "id": "51f8e133",
   "metadata": {},
   "outputs": [],
   "source": [
    "x_train_flattened=x_train.reshape(len(x_train), len(x_train[0])*len(x_train[0]))\n",
    "x_test_flattened=x_test.reshape(len(x_test),len(x_test[0])*len(x_test[0]))"
   ]
  },
  {
   "cell_type": "code",
   "execution_count": 9,
   "id": "02745d2f",
   "metadata": {},
   "outputs": [
    {
     "data": {
      "text/plain": [
       "(60000, 784)"
      ]
     },
     "execution_count": 9,
     "metadata": {},
     "output_type": "execute_result"
    }
   ],
   "source": [
    "x_train_flattened.shape"
   ]
  },
  {
   "cell_type": "code",
   "execution_count": 10,
   "id": "7950026a",
   "metadata": {},
   "outputs": [
    {
     "data": {
      "text/plain": [
       "(10000, 784)"
      ]
     },
     "execution_count": 10,
     "metadata": {},
     "output_type": "execute_result"
    }
   ],
   "source": [
    "x_test_flattened.shape"
   ]
  },
  {
   "cell_type": "code",
   "execution_count": 11,
   "id": "0cabb6d0",
   "metadata": {},
   "outputs": [
    {
     "data": {
      "text/plain": [
       "array([0.        , 0.        , 0.        , 0.        , 0.        ,\n",
       "       0.        , 0.        , 0.        , 0.        , 0.        ,\n",
       "       0.        , 0.        , 0.        , 0.        , 0.        ,\n",
       "       0.        , 0.        , 0.        , 0.        , 0.        ,\n",
       "       0.        , 0.        , 0.        , 0.        , 0.        ,\n",
       "       0.        , 0.        , 0.        , 0.        , 0.        ,\n",
       "       0.        , 0.        , 0.        , 0.        , 0.        ,\n",
       "       0.        , 0.        , 0.        , 0.        , 0.        ,\n",
       "       0.        , 0.        , 0.        , 0.        , 0.        ,\n",
       "       0.        , 0.        , 0.        , 0.        , 0.        ,\n",
       "       0.        , 0.        , 0.        , 0.        , 0.        ,\n",
       "       0.        , 0.        , 0.        , 0.        , 0.        ,\n",
       "       0.        , 0.        , 0.        , 0.        , 0.        ,\n",
       "       0.        , 0.        , 0.        , 0.        , 0.        ,\n",
       "       0.        , 0.        , 0.        , 0.        , 0.        ,\n",
       "       0.        , 0.        , 0.        , 0.        , 0.        ,\n",
       "       0.        , 0.        , 0.        , 0.        , 0.        ,\n",
       "       0.        , 0.        , 0.        , 0.        , 0.        ,\n",
       "       0.        , 0.        , 0.        , 0.        , 0.        ,\n",
       "       0.        , 0.        , 0.        , 0.        , 0.        ,\n",
       "       0.        , 0.        , 0.        , 0.        , 0.        ,\n",
       "       0.        , 0.        , 0.        , 0.        , 0.        ,\n",
       "       0.        , 0.        , 0.        , 0.        , 0.        ,\n",
       "       0.        , 0.        , 0.        , 0.        , 0.        ,\n",
       "       0.        , 0.        , 0.        , 0.        , 0.        ,\n",
       "       0.        , 0.        , 0.        , 0.        , 0.        ,\n",
       "       0.        , 0.        , 0.        , 0.        , 0.        ,\n",
       "       0.        , 0.        , 0.        , 0.        , 0.        ,\n",
       "       0.        , 0.        , 0.        , 0.        , 0.        ,\n",
       "       0.        , 0.        , 0.        , 0.        , 0.        ,\n",
       "       0.        , 0.        , 0.01176471, 0.07058824, 0.07058824,\n",
       "       0.07058824, 0.49411765, 0.53333333, 0.68627451, 0.10196078,\n",
       "       0.65098039, 1.        , 0.96862745, 0.49803922, 0.        ,\n",
       "       0.        , 0.        , 0.        , 0.        , 0.        ,\n",
       "       0.        , 0.        , 0.        , 0.        , 0.        ,\n",
       "       0.        , 0.11764706, 0.14117647, 0.36862745, 0.60392157,\n",
       "       0.66666667, 0.99215686, 0.99215686, 0.99215686, 0.99215686,\n",
       "       0.99215686, 0.88235294, 0.6745098 , 0.99215686, 0.94901961,\n",
       "       0.76470588, 0.25098039, 0.        , 0.        , 0.        ,\n",
       "       0.        , 0.        , 0.        , 0.        , 0.        ,\n",
       "       0.        , 0.        , 0.        , 0.19215686, 0.93333333,\n",
       "       0.99215686, 0.99215686, 0.99215686, 0.99215686, 0.99215686,\n",
       "       0.99215686, 0.99215686, 0.99215686, 0.98431373, 0.36470588,\n",
       "       0.32156863, 0.32156863, 0.21960784, 0.15294118, 0.        ,\n",
       "       0.        , 0.        , 0.        , 0.        , 0.        ,\n",
       "       0.        , 0.        , 0.        , 0.        , 0.        ,\n",
       "       0.        , 0.07058824, 0.85882353, 0.99215686, 0.99215686,\n",
       "       0.99215686, 0.99215686, 0.99215686, 0.77647059, 0.71372549,\n",
       "       0.96862745, 0.94509804, 0.        , 0.        , 0.        ,\n",
       "       0.        , 0.        , 0.        , 0.        , 0.        ,\n",
       "       0.        , 0.        , 0.        , 0.        , 0.        ,\n",
       "       0.        , 0.        , 0.        , 0.        , 0.        ,\n",
       "       0.31372549, 0.61176471, 0.41960784, 0.99215686, 0.99215686,\n",
       "       0.80392157, 0.04313725, 0.        , 0.16862745, 0.60392157,\n",
       "       0.        , 0.        , 0.        , 0.        , 0.        ,\n",
       "       0.        , 0.        , 0.        , 0.        , 0.        ,\n",
       "       0.        , 0.        , 0.        , 0.        , 0.        ,\n",
       "       0.        , 0.        , 0.        , 0.        , 0.05490196,\n",
       "       0.00392157, 0.60392157, 0.99215686, 0.35294118, 0.        ,\n",
       "       0.        , 0.        , 0.        , 0.        , 0.        ,\n",
       "       0.        , 0.        , 0.        , 0.        , 0.        ,\n",
       "       0.        , 0.        , 0.        , 0.        , 0.        ,\n",
       "       0.        , 0.        , 0.        , 0.        , 0.        ,\n",
       "       0.        , 0.        , 0.        , 0.        , 0.54509804,\n",
       "       0.99215686, 0.74509804, 0.00784314, 0.        , 0.        ,\n",
       "       0.        , 0.        , 0.        , 0.        , 0.        ,\n",
       "       0.        , 0.        , 0.        , 0.        , 0.        ,\n",
       "       0.        , 0.        , 0.        , 0.        , 0.        ,\n",
       "       0.        , 0.        , 0.        , 0.        , 0.        ,\n",
       "       0.        , 0.        , 0.04313725, 0.74509804, 0.99215686,\n",
       "       0.2745098 , 0.        , 0.        , 0.        , 0.        ,\n",
       "       0.        , 0.        , 0.        , 0.        , 0.        ,\n",
       "       0.        , 0.        , 0.        , 0.        , 0.        ,\n",
       "       0.        , 0.        , 0.        , 0.        , 0.        ,\n",
       "       0.        , 0.        , 0.        , 0.        , 0.        ,\n",
       "       0.        , 0.1372549 , 0.94509804, 0.88235294, 0.62745098,\n",
       "       0.42352941, 0.00392157, 0.        , 0.        , 0.        ,\n",
       "       0.        , 0.        , 0.        , 0.        , 0.        ,\n",
       "       0.        , 0.        , 0.        , 0.        , 0.        ,\n",
       "       0.        , 0.        , 0.        , 0.        , 0.        ,\n",
       "       0.        , 0.        , 0.        , 0.        , 0.        ,\n",
       "       0.31764706, 0.94117647, 0.99215686, 0.99215686, 0.46666667,\n",
       "       0.09803922, 0.        , 0.        , 0.        , 0.        ,\n",
       "       0.        , 0.        , 0.        , 0.        , 0.        ,\n",
       "       0.        , 0.        , 0.        , 0.        , 0.        ,\n",
       "       0.        , 0.        , 0.        , 0.        , 0.        ,\n",
       "       0.        , 0.        , 0.        , 0.        , 0.17647059,\n",
       "       0.72941176, 0.99215686, 0.99215686, 0.58823529, 0.10588235,\n",
       "       0.        , 0.        , 0.        , 0.        , 0.        ,\n",
       "       0.        , 0.        , 0.        , 0.        , 0.        ,\n",
       "       0.        , 0.        , 0.        , 0.        , 0.        ,\n",
       "       0.        , 0.        , 0.        , 0.        , 0.        ,\n",
       "       0.        , 0.        , 0.        , 0.0627451 , 0.36470588,\n",
       "       0.98823529, 0.99215686, 0.73333333, 0.        , 0.        ,\n",
       "       0.        , 0.        , 0.        , 0.        , 0.        ,\n",
       "       0.        , 0.        , 0.        , 0.        , 0.        ,\n",
       "       0.        , 0.        , 0.        , 0.        , 0.        ,\n",
       "       0.        , 0.        , 0.        , 0.        , 0.        ,\n",
       "       0.        , 0.        , 0.        , 0.97647059, 0.99215686,\n",
       "       0.97647059, 0.25098039, 0.        , 0.        , 0.        ,\n",
       "       0.        , 0.        , 0.        , 0.        , 0.        ,\n",
       "       0.        , 0.        , 0.        , 0.        , 0.        ,\n",
       "       0.        , 0.        , 0.        , 0.        , 0.        ,\n",
       "       0.        , 0.        , 0.        , 0.18039216, 0.50980392,\n",
       "       0.71764706, 0.99215686, 0.99215686, 0.81176471, 0.00784314,\n",
       "       0.        , 0.        , 0.        , 0.        , 0.        ,\n",
       "       0.        , 0.        , 0.        , 0.        , 0.        ,\n",
       "       0.        , 0.        , 0.        , 0.        , 0.        ,\n",
       "       0.        , 0.        , 0.        , 0.        , 0.15294118,\n",
       "       0.58039216, 0.89803922, 0.99215686, 0.99215686, 0.99215686,\n",
       "       0.98039216, 0.71372549, 0.        , 0.        , 0.        ,\n",
       "       0.        , 0.        , 0.        , 0.        , 0.        ,\n",
       "       0.        , 0.        , 0.        , 0.        , 0.        ,\n",
       "       0.        , 0.        , 0.        , 0.        , 0.        ,\n",
       "       0.09411765, 0.44705882, 0.86666667, 0.99215686, 0.99215686,\n",
       "       0.99215686, 0.99215686, 0.78823529, 0.30588235, 0.        ,\n",
       "       0.        , 0.        , 0.        , 0.        , 0.        ,\n",
       "       0.        , 0.        , 0.        , 0.        , 0.        ,\n",
       "       0.        , 0.        , 0.        , 0.        , 0.        ,\n",
       "       0.        , 0.09019608, 0.25882353, 0.83529412, 0.99215686,\n",
       "       0.99215686, 0.99215686, 0.99215686, 0.77647059, 0.31764706,\n",
       "       0.00784314, 0.        , 0.        , 0.        , 0.        ,\n",
       "       0.        , 0.        , 0.        , 0.        , 0.        ,\n",
       "       0.        , 0.        , 0.        , 0.        , 0.        ,\n",
       "       0.        , 0.        , 0.07058824, 0.67058824, 0.85882353,\n",
       "       0.99215686, 0.99215686, 0.99215686, 0.99215686, 0.76470588,\n",
       "       0.31372549, 0.03529412, 0.        , 0.        , 0.        ,\n",
       "       0.        , 0.        , 0.        , 0.        , 0.        ,\n",
       "       0.        , 0.        , 0.        , 0.        , 0.        ,\n",
       "       0.        , 0.        , 0.        , 0.21568627, 0.6745098 ,\n",
       "       0.88627451, 0.99215686, 0.99215686, 0.99215686, 0.99215686,\n",
       "       0.95686275, 0.52156863, 0.04313725, 0.        , 0.        ,\n",
       "       0.        , 0.        , 0.        , 0.        , 0.        ,\n",
       "       0.        , 0.        , 0.        , 0.        , 0.        ,\n",
       "       0.        , 0.        , 0.        , 0.        , 0.        ,\n",
       "       0.        , 0.53333333, 0.99215686, 0.99215686, 0.99215686,\n",
       "       0.83137255, 0.52941176, 0.51764706, 0.0627451 , 0.        ,\n",
       "       0.        , 0.        , 0.        , 0.        , 0.        ,\n",
       "       0.        , 0.        , 0.        , 0.        , 0.        ,\n",
       "       0.        , 0.        , 0.        , 0.        , 0.        ,\n",
       "       0.        , 0.        , 0.        , 0.        , 0.        ,\n",
       "       0.        , 0.        , 0.        , 0.        , 0.        ,\n",
       "       0.        , 0.        , 0.        , 0.        , 0.        ,\n",
       "       0.        , 0.        , 0.        , 0.        , 0.        ,\n",
       "       0.        , 0.        , 0.        , 0.        , 0.        ,\n",
       "       0.        , 0.        , 0.        , 0.        , 0.        ,\n",
       "       0.        , 0.        , 0.        , 0.        , 0.        ,\n",
       "       0.        , 0.        , 0.        , 0.        , 0.        ,\n",
       "       0.        , 0.        , 0.        , 0.        , 0.        ,\n",
       "       0.        , 0.        , 0.        , 0.        , 0.        ,\n",
       "       0.        , 0.        , 0.        , 0.        , 0.        ,\n",
       "       0.        , 0.        , 0.        , 0.        , 0.        ,\n",
       "       0.        , 0.        , 0.        , 0.        , 0.        ,\n",
       "       0.        , 0.        , 0.        , 0.        , 0.        ,\n",
       "       0.        , 0.        , 0.        , 0.        , 0.        ,\n",
       "       0.        , 0.        , 0.        , 0.        , 0.        ,\n",
       "       0.        , 0.        , 0.        , 0.        ])"
      ]
     },
     "execution_count": 11,
     "metadata": {},
     "output_type": "execute_result"
    }
   ],
   "source": [
    "x_train_flattened[0]"
   ]
  },
  {
   "cell_type": "code",
   "execution_count": 12,
   "id": "5520b9e3",
   "metadata": {},
   "outputs": [
    {
     "name": "stdout",
     "output_type": "stream",
     "text": [
      "Epoch 1/25\n",
      "1875/1875 [==============================] - 10s 4ms/step - loss: 0.4680 - accuracy: 0.8780\n",
      "Epoch 2/25\n",
      "1875/1875 [==============================] - 9s 5ms/step - loss: 0.3037 - accuracy: 0.9150\n",
      "Epoch 3/25\n",
      "1875/1875 [==============================] - 4s 2ms/step - loss: 0.2833 - accuracy: 0.9203\n",
      "Epoch 4/25\n",
      "1875/1875 [==============================] - 4s 2ms/step - loss: 0.2724 - accuracy: 0.9237\n",
      "Epoch 5/25\n",
      "1875/1875 [==============================] - 4s 2ms/step - loss: 0.2665 - accuracy: 0.9259\n",
      "Epoch 6/25\n",
      "1875/1875 [==============================] - 3s 2ms/step - loss: 0.2618 - accuracy: 0.9275\n",
      "Epoch 7/25\n",
      "1875/1875 [==============================] - 4s 2ms/step - loss: 0.2585 - accuracy: 0.9283\n",
      "Epoch 8/25\n",
      "1875/1875 [==============================] - 4s 2ms/step - loss: 0.2554 - accuracy: 0.9295\n",
      "Epoch 9/25\n",
      "1875/1875 [==============================] - 4s 2ms/step - loss: 0.2528 - accuracy: 0.9300\n",
      "Epoch 10/25\n",
      "1875/1875 [==============================] - 5s 3ms/step - loss: 0.2511 - accuracy: 0.9306\n",
      "Epoch 11/25\n",
      "1875/1875 [==============================] - 4s 2ms/step - loss: 0.2495 - accuracy: 0.9310\n",
      "Epoch 12/25\n",
      "1875/1875 [==============================] - 4s 2ms/step - loss: 0.2478 - accuracy: 0.9313\n",
      "Epoch 13/25\n",
      "1875/1875 [==============================] - 5s 3ms/step - loss: 0.2464 - accuracy: 0.9324\n",
      "Epoch 14/25\n",
      "1875/1875 [==============================] - 4s 2ms/step - loss: 0.2452 - accuracy: 0.9321\n",
      "Epoch 15/25\n",
      "1875/1875 [==============================] - 4s 2ms/step - loss: 0.2441 - accuracy: 0.9328\n",
      "Epoch 16/25\n",
      "1875/1875 [==============================] - 5s 2ms/step - loss: 0.2424 - accuracy: 0.9334\n",
      "Epoch 17/25\n",
      "1875/1875 [==============================] - 4s 2ms/step - loss: 0.2423 - accuracy: 0.9335\n",
      "Epoch 18/25\n",
      "1875/1875 [==============================] - 4s 2ms/step - loss: 0.2415 - accuracy: 0.9330\n",
      "Epoch 19/25\n",
      "1875/1875 [==============================] - 4s 2ms/step - loss: 0.2404 - accuracy: 0.9333\n",
      "Epoch 20/25\n",
      "1875/1875 [==============================] - 4s 2ms/step - loss: 0.2396 - accuracy: 0.9338\n",
      "Epoch 21/25\n",
      "1875/1875 [==============================] - 4s 2ms/step - loss: 0.2388 - accuracy: 0.9340\n",
      "Epoch 22/25\n",
      "1875/1875 [==============================] - 4s 2ms/step - loss: 0.2382 - accuracy: 0.9348\n",
      "Epoch 23/25\n",
      "1875/1875 [==============================] - 4s 2ms/step - loss: 0.2378 - accuracy: 0.9344\n",
      "Epoch 24/25\n",
      "1875/1875 [==============================] - 4s 2ms/step - loss: 0.2370 - accuracy: 0.9345\n",
      "Epoch 25/25\n",
      "1875/1875 [==============================] - 5s 2ms/step - loss: 0.2369 - accuracy: 0.9350\n"
     ]
    },
    {
     "data": {
      "text/plain": [
       "<keras.callbacks.History at 0x19c65496a40>"
      ]
     },
     "execution_count": 12,
     "metadata": {},
     "output_type": "execute_result"
    }
   ],
   "source": [
    "model=keras.Sequential(\n",
    "[\n",
    "    keras.layers.Dense(10, input_shape=(784,), activation=\"sigmoid\")\n",
    "])\n",
    "\n",
    "model.compile(optimizer=\"adam\", loss=\"sparse_categorical_crossentropy\", metrics=[\"accuracy\"])\n",
    "model.fit(x_train_flattened, y_train,epochs=25)"
   ]
  },
  {
   "cell_type": "code",
   "execution_count": 13,
   "id": "cf55e097",
   "metadata": {},
   "outputs": [
    {
     "name": "stdout",
     "output_type": "stream",
     "text": [
      "313/313 [==============================] - 1s 1ms/step\n"
     ]
    }
   ],
   "source": [
    "y_pred=model.predict(x_test_flattened)"
   ]
  },
  {
   "cell_type": "code",
   "execution_count": 14,
   "id": "e35c3cd4",
   "metadata": {},
   "outputs": [
    {
     "data": {
      "text/plain": [
       "2"
      ]
     },
     "execution_count": 14,
     "metadata": {},
     "output_type": "execute_result"
    }
   ],
   "source": [
    "# a=y_pred[0]\n",
    "# maxi=max(a)\n",
    "# for i in range(len(a)):\n",
    "#     if a[i]==maxi:\n",
    "#         index=i\n",
    "# print(index)\n",
    "np.argmax(y_pred[1])"
   ]
  },
  {
   "cell_type": "code",
   "execution_count": 15,
   "id": "cd21763f",
   "metadata": {},
   "outputs": [],
   "source": [
    "y_pred_labels=[ np.argmax(i) for i in y_pred ]"
   ]
  },
  {
   "cell_type": "code",
   "execution_count": 16,
   "id": "b7140e01",
   "metadata": {
    "scrolled": true
   },
   "outputs": [
    {
     "data": {
      "text/plain": [
       "<tf.Tensor: shape=(10, 10), dtype=int32, numpy=\n",
       "array([[ 961,    0,    0,    2,    1,    6,    6,    3,    1,    0],\n",
       "       [   0, 1118,    3,    2,    0,    1,    3,    2,    6,    0],\n",
       "       [   7,    9,  920,   18,    9,    5,   12,   10,   39,    3],\n",
       "       [   4,    0,   14,  922,    1,   30,    2,   10,   23,    4],\n",
       "       [   1,    2,    5,    3,  921,    0,   10,    7,   10,   23],\n",
       "       [   9,    3,    1,   27,    7,  795,   13,    6,   28,    3],\n",
       "       [  12,    3,    8,    1,    7,   18,  906,    1,    2,    0],\n",
       "       [   2,    8,   18,    5,    4,    1,    0,  965,    2,   23],\n",
       "       [   8,   16,    6,   23,    9,   33,    8,   12,  854,    5],\n",
       "       [  10,    8,    1,    9,   29,   10,    0,   32,    7,  903]])>"
      ]
     },
     "execution_count": 16,
     "metadata": {},
     "output_type": "execute_result"
    }
   ],
   "source": [
    "cm=tf.math.confusion_matrix(labels=y_test, predictions=y_pred_labels)\n",
    "cm"
   ]
  },
  {
   "cell_type": "code",
   "execution_count": 17,
   "id": "07ddd029",
   "metadata": {},
   "outputs": [
    {
     "data": {
      "text/plain": [
       "0.9265"
      ]
     },
     "execution_count": 17,
     "metadata": {},
     "output_type": "execute_result"
    }
   ],
   "source": [
    "from sklearn.metrics import accuracy_score\n",
    "accuracy_score(y_test, y_pred_labels)"
   ]
  },
  {
   "cell_type": "code",
   "execution_count": 18,
   "id": "1c4af4f5",
   "metadata": {},
   "outputs": [
    {
     "data": {
      "text/plain": [
       "Text(95.72222222222221, 0.5, 'Truth')"
      ]
     },
     "execution_count": 18,
     "metadata": {},
     "output_type": "execute_result"
    },
    {
     "data": {
      "image/png": "[encoded data removed]",
      "text/plain": [
       "<Figure size 1000x700 with 2 Axes>"
      ]
     },
     "metadata": {},
     "output_type": "display_data"
    }
   ],
   "source": [
    "import seaborn as sn\n",
    "plt.figure(figsize=(10,7))\n",
    "sn.heatmap(cm, annot=True, fmt=\"d\")\n",
    "plt.xlabel(\"Predicted\")\n",
    "plt.ylabel(\"Truth\")"
   ]
  },
  {
   "cell_type": "code",
   "execution_count": 19,
   "id": "14f3cafa",
   "metadata": {},
   "outputs": [
    {
     "name": "stdout",
     "output_type": "stream",
     "text": [
      "Epoch 1/25\n",
      "1875/1875 [==============================] - 8s 4ms/step - loss: 0.2697 - accuracy: 0.9241\n",
      "Epoch 2/25\n",
      "1875/1875 [==============================] - 7s 4ms/step - loss: 0.1228 - accuracy: 0.9630\n",
      "Epoch 3/25\n",
      "1875/1875 [==============================] - 8s 4ms/step - loss: 0.0866 - accuracy: 0.9740\n",
      "Epoch 4/25\n",
      "1875/1875 [==============================] - 8s 4ms/step - loss: 0.0667 - accuracy: 0.9797\n",
      "Epoch 5/25\n",
      "1875/1875 [==============================] - 7s 4ms/step - loss: 0.0537 - accuracy: 0.9835\n",
      "Epoch 6/25\n",
      "1875/1875 [==============================] - 7s 4ms/step - loss: 0.0432 - accuracy: 0.9869\n",
      "Epoch 7/25\n",
      "1875/1875 [==============================] - 7s 4ms/step - loss: 0.0352 - accuracy: 0.9893\n",
      "Epoch 8/25\n",
      "1875/1875 [==============================] - 7s 4ms/step - loss: 0.0293 - accuracy: 0.9908\n",
      "Epoch 9/25\n",
      "1875/1875 [==============================] - 7s 4ms/step - loss: 0.0240 - accuracy: 0.9926\n",
      "Epoch 10/25\n",
      "1875/1875 [==============================] - 7s 4ms/step - loss: 0.0209 - accuracy: 0.9935\n",
      "Epoch 11/25\n",
      "1875/1875 [==============================] - 7s 4ms/step - loss: 0.0178 - accuracy: 0.9941\n",
      "Epoch 12/25\n",
      "1875/1875 [==============================] - 7s 4ms/step - loss: 0.0147 - accuracy: 0.9952\n",
      "Epoch 13/25\n",
      "1875/1875 [==============================] - 7s 4ms/step - loss: 0.0129 - accuracy: 0.9961\n",
      "Epoch 14/25\n",
      "1875/1875 [==============================] - 7s 4ms/step - loss: 0.0116 - accuracy: 0.9964\n",
      "Epoch 15/25\n",
      "1875/1875 [==============================] - 7s 4ms/step - loss: 0.0103 - accuracy: 0.9969\n",
      "Epoch 16/25\n",
      "1875/1875 [==============================] - 8s 4ms/step - loss: 0.0088 - accuracy: 0.9972\n",
      "Epoch 17/25\n",
      "1875/1875 [==============================] - 7s 4ms/step - loss: 0.0079 - accuracy: 0.9976\n",
      "Epoch 18/25\n",
      "1875/1875 [==============================] - 7s 4ms/step - loss: 0.0077 - accuracy: 0.9978\n",
      "Epoch 19/25\n",
      "1875/1875 [==============================] - 7s 4ms/step - loss: 0.0067 - accuracy: 0.9979\n",
      "Epoch 20/25\n",
      "1875/1875 [==============================] - 9s 5ms/step - loss: 0.0071 - accuracy: 0.9978\n",
      "Epoch 21/25\n",
      "1875/1875 [==============================] - 8s 4ms/step - loss: 0.0073 - accuracy: 0.9976\n",
      "Epoch 22/25\n",
      "1875/1875 [==============================] - 6s 3ms/step - loss: 0.0053 - accuracy: 0.9985\n",
      "Epoch 23/25\n",
      "1875/1875 [==============================] - 5s 3ms/step - loss: 0.0052 - accuracy: 0.9985\n",
      "Epoch 24/25\n",
      "1875/1875 [==============================] - 7s 4ms/step - loss: 0.0061 - accuracy: 0.9980\n",
      "Epoch 25/25\n",
      "1875/1875 [==============================] - 7s 4ms/step - loss: 0.0052 - accuracy: 0.9984\n"
     ]
    },
    {
     "data": {
      "text/plain": [
       "<keras.callbacks.History at 0x19c6870f460>"
      ]
     },
     "execution_count": 19,
     "metadata": {},
     "output_type": "execute_result"
    }
   ],
   "source": [
    "model2=keras.Sequential([\n",
    "    keras.layers.Dense(100, input_shape=(784,), activation=\"relu\"),\n",
    "    keras.layers.Dense(10, activation=\"sigmoid\")\n",
    "])\n",
    "\n",
    "tb_callback =keras.callbacks.TensorBoard(log_dir=\"/logs\", histogram_freq=1)\n",
    "model2.compile(optimizer=\"adam\", loss=\"sparse_categorical_crossentropy\", metrics=[\"accuracy\"])\n",
    "model2.fit(x_train_flattened, y_train, epochs=25, callbacks=[tb_callback])"
   ]
  },
  {
   "cell_type": "code",
   "execution_count": 20,
   "id": "4b844b38",
   "metadata": {},
   "outputs": [
    {
     "name": "stdout",
     "output_type": "stream",
     "text": [
      "313/313 [==============================] - 1s 2ms/step\n"
     ]
    }
   ],
   "source": [
    "y_pred2=model2.predict(x_test_flattened)"
   ]
  },
  {
   "cell_type": "code",
   "execution_count": 21,
   "id": "f67a832e",
   "metadata": {},
   "outputs": [],
   "source": [
    "y_pred2_labels=[np.argmax(i) for i in y_pred2]"
   ]
  },
  {
   "cell_type": "code",
   "execution_count": 22,
   "id": "837c4efc",
   "metadata": {},
   "outputs": [
    {
     "data": {
      "text/plain": [
       "<tf.Tensor: shape=(10, 10), dtype=int32, numpy=\n",
       "array([[ 971,    0,    0,    0,    1,    0,    3,    2,    3,    0],\n",
       "       [   0, 1125,    2,    1,    0,    0,    2,    1,    4,    0],\n",
       "       [   5,    4, 1006,    0,    1,    0,    1,    7,    8,    0],\n",
       "       [   0,    0,    5,  989,    1,    4,    0,    3,    2,    6],\n",
       "       [   0,    0,    4,    1,  963,    0,    4,    2,    0,    8],\n",
       "       [   3,    1,    0,    9,    1,  870,    1,    3,    3,    1],\n",
       "       [   3,    2,    4,    1,    4,    4,  934,    0,    6,    0],\n",
       "       [   3,    4,   10,    2,    0,    0,    1,  999,    3,    6],\n",
       "       [   5,    1,    1,    9,    3,    1,    0,    2,  947,    5],\n",
       "       [   1,    3,    0,    6,    9,    2,    1,    4,    1,  982]])>"
      ]
     },
     "execution_count": 22,
     "metadata": {},
     "output_type": "execute_result"
    }
   ],
   "source": [
    "cm2=tf.math.confusion_matrix(labels=y_test, predictions=y_pred2_labels)\n",
    "cm2"
   ]
  },
  {
   "cell_type": "code",
   "execution_count": 23,
   "id": "f8ec17e1",
   "metadata": {},
   "outputs": [
    {
     "data": {
      "text/plain": [
       "Text(95.72222222222221, 0.5, 'Truth')"
      ]
     },
     "execution_count": 23,
     "metadata": {},
     "output_type": "execute_result"
    },
    {
     "data": {
      "image/png": "[encoded data removed]",
      "text/plain": [
       "<Figure size 1000x700 with 2 Axes>"
      ]
     },
     "metadata": {},
     "output_type": "display_data"
    }
   ],
   "source": [
    "plt.figure(figsize=(10,7))\n",
    "sn.heatmap(cm2, annot=True, fmt=\"d\")\n",
    "plt.xlabel(\"Predicted\")\n",
    "plt.ylabel(\"Truth\")"
   ]
  },
  {
   "cell_type": "code",
   "execution_count": 24,
   "id": "e817ea41",
   "metadata": {},
   "outputs": [
    {
     "data": {
      "text/plain": [
       "0.9786"
      ]
     },
     "execution_count": 24,
     "metadata": {},
     "output_type": "execute_result"
    }
   ],
   "source": [
    "accuracy_score(y_test, y_pred2_labels)"
   ]
  },
  {
   "cell_type": "code",
   "execution_count": 25,
   "id": "8853e469",
   "metadata": {},
   "outputs": [
    {
     "data": {
      "text/plain": [
       "Reusing TensorBoard on port 6006 (pid 14776), started 1:56:54 ago. (Use '!kill 14776' to kill it.)"
      ]
     },
     "metadata": {},
     "output_type": "display_data"
    },
    {
     "data": {
      "text/html": [
       "\n",
       "      <iframe id=\"tensorboard-frame-a2e564c6a8fed013\" width=\"100%\" height=\"800\" frameborder=\"0\">\n",
       "      </iframe>\n",
       "      <script>\n",
       "        (function() {\n",
       "          const frame = document.getElementById(\"tensorboard-frame-a2e564c6a8fed013\");\n",
       "          const url = new URL(\"/\", window.location);\n",
       "          const port = 6006;\n",
       "          if (port) {\n",
       "            url.port = port;\n",
       "          }\n",
       "          frame.src = url;\n",
       "        })();\n",
       "      </script>\n",
       "    "
      ],
      "text/plain": [
       "<IPython.core.display.HTML object>"
      ]
     },
     "metadata": {},
     "output_type": "display_data"
    }
   ],
   "source": [
    "%load_ext tensorboard\n",
    "%tensorboard --logdir logs/fit"
   ]
  }
 ],
 "metadata": {
  "kernelspec": {
   "display_name": "Python 3 (ipykernel)",
   "language": "python",
   "name": "python3"
  },
  "language_info": {
   "codemirror_mode": {
    "name": "ipython",
    "version": 3
   },
   "file_extension": ".py",
   "mimetype": "text/x-python",
   "name": "python",
   "nbconvert_exporter": "python",
   "pygments_lexer": "ipython3",
   "version": "3.10.5"
  }
 },
 "nbformat": 4,
 "nbformat_minor": 5
}
