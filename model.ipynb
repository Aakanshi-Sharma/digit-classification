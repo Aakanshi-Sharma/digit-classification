{
 "cells": [
  {
   "cell_type": "code",
   "execution_count": 1,
   "id": "d613a02d",
   "metadata": {},
   "outputs": [],
   "source": [
    "import tensorflow as tf\n",
    "import numpy as np\n",
    "from tensorflow import keras\n",
    "import matplotlib.pyplot as plt"
   ]
  },
  {
   "cell_type": "code",
   "execution_count": 2,
   "id": "89deda54",
   "metadata": {},
   "outputs": [],
   "source": [
    "(x_train, y_train), (x_test,y_test)=keras.datasets.mnist.load_data()"
   ]
  },
  {
   "cell_type": "code",
   "execution_count": 3,
   "id": "d3f6819d",
   "metadata": {},
   "outputs": [
    {
     "data": {
      "text/plain": [
       "60000"
      ]
     },
     "execution_count": 3,
     "metadata": {},
     "output_type": "execute_result"
    }
   ],
   "source": [
    "len(x_train)"
   ]
  },
  {
   "cell_type": "code",
   "execution_count": 4,
   "id": "b9751d9e",
   "metadata": {},
   "outputs": [
    {
     "data": {
      "text/plain": [
       "(60000, 28, 28)"
      ]
     },
     "execution_count": 4,
     "metadata": {},
     "output_type": "execute_result"
    }
   ],
   "source": [
    "x_train.shape"
   ]
  },
  {
   "cell_type": "code",
   "execution_count": 5,
   "id": "dc17ab4c",
   "metadata": {},
   "outputs": [
    {
     "data": {
      "text/plain": [
       "<matplotlib.image.AxesImage at 0x2b28bb21cf0>"
      ]
     },
     "execution_count": 5,
     "metadata": {},
     "output_type": "execute_result"
    },
    {
     "data": {
      "image/png": "[encoded data removed]",
      "text/plain": [
       "<Figure size 480x480 with 1 Axes>"
      ]
     },
     "metadata": {},
     "output_type": "display_data"
    }
   ],
   "source": [
    "plt.matshow(x_train[2])"
   ]
  },
  {
   "cell_type": "code",
   "execution_count": 6,
   "id": "b23de63d",
   "metadata": {},
   "outputs": [
    {
     "data": {
      "text/plain": [
       "4"
      ]
     },
     "execution_count": 6,
     "metadata": {},
     "output_type": "execute_result"
    }
   ],
   "source": [
    "y_train[2]"
   ]
  },
  {
   "cell_type": "code",
   "execution_count": 7,
   "id": "b8e547c3",
   "metadata": {},
   "outputs": [],
   "source": [
    "x_train=x_train/255\n",
    "x_test=x_test/255"
   ]
  },
  {
   "cell_type": "code",
   "execution_count": 8,
   "id": "51f8e133",
   "metadata": {},
   "outputs": [],
   "source": [
    "x_train_flattened=x_train.reshape(len(x_train), len(x_train[0])*len(x_train[0]))\n",
    "x_test_flattened=x_test.reshape(len(x_test),len(x_test[0])*len(x_test[0]))"
   ]
  },
  {
   "cell_type": "code",
   "execution_count": 9,
   "id": "02745d2f",
   "metadata": {},
   "outputs": [
    {
     "data": {
      "text/plain": [
       "(60000, 784)"
      ]
     },
     "execution_count": 9,
     "metadata": {},
     "output_type": "execute_result"
    }
   ],
   "source": [
    "x_train_flattened.shape"
   ]
  },
  {
   "cell_type": "code",
   "execution_count": 10,
   "id": "7950026a",
   "metadata": {},
   "outputs": [
    {
     "data": {
      "text/plain": [
       "(10000, 784)"
      ]
     },
     "execution_count": 10,
     "metadata": {},
     "output_type": "execute_result"
    }
   ],
   "source": [
    "x_test_flattened.shape"
   ]
  },
  {
   "cell_type": "code",
   "execution_count": 11,
   "id": "0cabb6d0",
   "metadata": {},
   "outputs": [
    {
     "data": {
      "text/plain": [
       "array([0.        , 0.        , 0.        , 0.        , 0.        ,\n",
       "       0.        , 0.        , 0.        , 0.        , 0.        ,\n",
       "       0.        , 0.        , 0.        , 0.        , 0.        ,\n",
       "       0.        , 0.        , 0.        , 0.        , 0.        ,\n",
       "       0.        , 0.        , 0.        , 0.        , 0.        ,\n",
       "       0.        , 0.        , 0.        , 0.        , 0.        ,\n",
       "       0.        , 0.        , 0.        , 0.        , 0.        ,\n",
       "       0.        , 0.        , 0.        , 0.        , 0.        ,\n",
       "       0.        , 0.        , 0.        , 0.        , 0.        ,\n",
       "       0.        , 0.        , 0.        , 0.        , 0.        ,\n",
       "       0.        , 0.        , 0.        , 0.        , 0.        ,\n",
       "       0.        , 0.        , 0.        , 0.        , 0.        ,\n",
       "       0.        , 0.        , 0.        , 0.        , 0.        ,\n",
       "       0.        , 0.        , 0.        , 0.        , 0.        ,\n",
       "       0.        , 0.        , 0.        , 0.        , 0.        ,\n",
       "       0.        , 0.        , 0.        , 0.        , 0.        ,\n",
       "       0.        , 0.        , 0.        , 0.        , 0.        ,\n",
       "       0.        , 0.        , 0.        , 0.        , 0.        ,\n",
       "       0.        , 0.        , 0.        , 0.        , 0.        ,\n",
       "       0.        , 0.        , 0.        , 0.        , 0.        ,\n",
       "       0.        , 0.        , 0.        , 0.        , 0.        ,\n",
       "       0.        , 0.        , 0.        , 0.        , 0.        ,\n",
       "       0.        , 0.        , 0.        , 0.        , 0.        ,\n",
       "       0.        , 0.        , 0.        , 0.        , 0.        ,\n",
       "       0.        , 0.        , 0.        , 0.        , 0.        ,\n",
       "       0.        , 0.        , 0.        , 0.        , 0.        ,\n",
       "       0.        , 0.        , 0.        , 0.        , 0.        ,\n",
       "       0.        , 0.        , 0.        , 0.        , 0.        ,\n",
       "       0.        , 0.        , 0.        , 0.        , 0.        ,\n",
       "       0.        , 0.        , 0.        , 0.        , 0.        ,\n",
       "       0.        , 0.        , 0.01176471, 0.07058824, 0.07058824,\n",
       "       0.07058824, 0.49411765, 0.53333333, 0.68627451, 0.10196078,\n",
       "       0.65098039, 1.        , 0.96862745, 0.49803922, 0.        ,\n",
       "       0.        , 0.        , 0.        , 0.        , 0.        ,\n",
       "       0.        , 0.        , 0.        , 0.        , 0.        ,\n",
       "       0.        , 0.11764706, 0.14117647, 0.36862745, 0.60392157,\n",
       "       0.66666667, 0.99215686, 0.99215686, 0.99215686, 0.99215686,\n",
       "       0.99215686, 0.88235294, 0.6745098 , 0.99215686, 0.94901961,\n",
       "       0.76470588, 0.25098039, 0.        , 0.        , 0.        ,\n",
       "       0.        , 0.        , 0.        , 0.        , 0.        ,\n",
       "       0.        , 0.        , 0.        , 0.19215686, 0.93333333,\n",
       "       0.99215686, 0.99215686, 0.99215686, 0.99215686, 0.99215686,\n",
       "       0.99215686, 0.99215686, 0.99215686, 0.98431373, 0.36470588,\n",
       "       0.32156863, 0.32156863, 0.21960784, 0.15294118, 0.        ,\n",
       "       0.        , 0.        , 0.        , 0.        , 0.        ,\n",
       "       0.        , 0.        , 0.        , 0.        , 0.        ,\n",
       "       0.        , 0.07058824, 0.85882353, 0.99215686, 0.99215686,\n",
       "       0.99215686, 0.99215686, 0.99215686, 0.77647059, 0.71372549,\n",
       "       0.96862745, 0.94509804, 0.        , 0.        , 0.        ,\n",
       "       0.        , 0.        , 0.        , 0.        , 0.        ,\n",
       "       0.        , 0.        , 0.        , 0.        , 0.        ,\n",
       "       0.        , 0.        , 0.        , 0.        , 0.        ,\n",
       "       0.31372549, 0.61176471, 0.41960784, 0.99215686, 0.99215686,\n",
       "       0.80392157, 0.04313725, 0.        , 0.16862745, 0.60392157,\n",
       "       0.        , 0.        , 0.        , 0.        , 0.        ,\n",
       "       0.        , 0.        , 0.        , 0.        , 0.        ,\n",
       "       0.        , 0.        , 0.        , 0.        , 0.        ,\n",
       "       0.        , 0.        , 0.        , 0.        , 0.05490196,\n",
       "       0.00392157, 0.60392157, 0.99215686, 0.35294118, 0.        ,\n",
       "       0.        , 0.        , 0.        , 0.        , 0.        ,\n",
       "       0.        , 0.        , 0.        , 0.        , 0.        ,\n",
       "       0.        , 0.        , 0.        , 0.        , 0.        ,\n",
       "       0.        , 0.        , 0.        , 0.        , 0.        ,\n",
       "       0.        , 0.        , 0.        , 0.        , 0.54509804,\n",
       "       0.99215686, 0.74509804, 0.00784314, 0.        , 0.        ,\n",
       "       0.        , 0.        , 0.        , 0.        , 0.        ,\n",
       "       0.        , 0.        , 0.        , 0.        , 0.        ,\n",
       "       0.        , 0.        , 0.        , 0.        , 0.        ,\n",
       "       0.        , 0.        , 0.        , 0.        , 0.        ,\n",
       "       0.        , 0.        , 0.04313725, 0.74509804, 0.99215686,\n",
       "       0.2745098 , 0.        , 0.        , 0.        , 0.        ,\n",
       "       0.        , 0.        , 0.        , 0.        , 0.        ,\n",
       "       0.        , 0.        , 0.        , 0.        , 0.        ,\n",
       "       0.        , 0.        , 0.        , 0.        , 0.        ,\n",
       "       0.        , 0.        , 0.        , 0.        , 0.        ,\n",
       "       0.        , 0.1372549 , 0.94509804, 0.88235294, 0.62745098,\n",
       "       0.42352941, 0.00392157, 0.        , 0.        , 0.        ,\n",
       "       0.        , 0.        , 0.        , 0.        , 0.        ,\n",
       "       0.        , 0.        , 0.        , 0.        , 0.        ,\n",
       "       0.        , 0.        , 0.        , 0.        , 0.        ,\n",
       "       0.        , 0.        , 0.        , 0.        , 0.        ,\n",
       "       0.31764706, 0.94117647, 0.99215686, 0.99215686, 0.46666667,\n",
       "       0.09803922, 0.        , 0.        , 0.        , 0.        ,\n",
       "       0.        , 0.        , 0.        , 0.        , 0.        ,\n",
       "       0.        , 0.        , 0.        , 0.        , 0.        ,\n",
       "       0.        , 0.        , 0.        , 0.        , 0.        ,\n",
       "       0.        , 0.        , 0.        , 0.        , 0.17647059,\n",
       "       0.72941176, 0.99215686, 0.99215686, 0.58823529, 0.10588235,\n",
       "       0.        , 0.        , 0.        , 0.        , 0.        ,\n",
       "       0.        , 0.        , 0.        , 0.        , 0.        ,\n",
       "       0.        , 0.        , 0.        , 0.        , 0.        ,\n",
       "       0.        , 0.        , 0.        , 0.        , 0.        ,\n",
       "       0.        , 0.        , 0.        , 0.0627451 , 0.36470588,\n",
       "       0.98823529, 0.99215686, 0.73333333, 0.        , 0.        ,\n",
       "       0.        , 0.        , 0.        , 0.        , 0.        ,\n",
       "       0.        , 0.        , 0.        , 0.        , 0.        ,\n",
       "       0.        , 0.        , 0.        , 0.        , 0.        ,\n",
       "       0.        , 0.        , 0.        , 0.        , 0.        ,\n",
       "       0.        , 0.        , 0.        , 0.97647059, 0.99215686,\n",
       "       0.97647059, 0.25098039, 0.        , 0.        , 0.        ,\n",
       "       0.        , 0.        , 0.        , 0.        , 0.        ,\n",
       "       0.        , 0.        , 0.        , 0.        , 0.        ,\n",
       "       0.        , 0.        , 0.        , 0.        , 0.        ,\n",
       "       0.        , 0.        , 0.        , 0.18039216, 0.50980392,\n",
       "       0.71764706, 0.99215686, 0.99215686, 0.81176471, 0.00784314,\n",
       "       0.        , 0.        , 0.        , 0.        , 0.        ,\n",
       "       0.        , 0.        , 0.        , 0.        , 0.        ,\n",
       "       0.        , 0.        , 0.        , 0.        , 0.        ,\n",
       "       0.        , 0.        , 0.        , 0.        , 0.15294118,\n",
       "       0.58039216, 0.89803922, 0.99215686, 0.99215686, 0.99215686,\n",
       "       0.98039216, 0.71372549, 0.        , 0.        , 0.        ,\n",
       "       0.        , 0.        , 0.        , 0.        , 0.        ,\n",
       "       0.        , 0.        , 0.        , 0.        , 0.        ,\n",
       "       0.        , 0.        , 0.        , 0.        , 0.        ,\n",
       "       0.09411765, 0.44705882, 0.86666667, 0.99215686, 0.99215686,\n",
       "       0.99215686, 0.99215686, 0.78823529, 0.30588235, 0.        ,\n",
       "       0.        , 0.        , 0.        , 0.        , 0.        ,\n",
       "       0.        , 0.        , 0.        , 0.        , 0.        ,\n",
       "       0.        , 0.        , 0.        , 0.        , 0.        ,\n",
       "       0.        , 0.09019608, 0.25882353, 0.83529412, 0.99215686,\n",
       "       0.99215686, 0.99215686, 0.99215686, 0.77647059, 0.31764706,\n",
       "       0.00784314, 0.        , 0.        , 0.        , 0.        ,\n",
       "       0.        , 0.        , 0.        , 0.        , 0.        ,\n",
       "       0.        , 0.        , 0.        , 0.        , 0.        ,\n",
       "       0.        , 0.        , 0.07058824, 0.67058824, 0.85882353,\n",
       "       0.99215686, 0.99215686, 0.99215686, 0.99215686, 0.76470588,\n",
       "       0.31372549, 0.03529412, 0.        , 0.        , 0.        ,\n",
       "       0.        , 0.        , 0.        , 0.        , 0.        ,\n",
       "       0.        , 0.        , 0.        , 0.        , 0.        ,\n",
       "       0.        , 0.        , 0.        , 0.21568627, 0.6745098 ,\n",
       "       0.88627451, 0.99215686, 0.99215686, 0.99215686, 0.99215686,\n",
       "       0.95686275, 0.52156863, 0.04313725, 0.        , 0.        ,\n",
       "       0.        , 0.        , 0.        , 0.        , 0.        ,\n",
       "       0.        , 0.        , 0.        , 0.        , 0.        ,\n",
       "       0.        , 0.        , 0.        , 0.        , 0.        ,\n",
       "       0.        , 0.53333333, 0.99215686, 0.99215686, 0.99215686,\n",
       "       0.83137255, 0.52941176, 0.51764706, 0.0627451 , 0.        ,\n",
       "       0.        , 0.        , 0.        , 0.        , 0.        ,\n",
       "       0.        , 0.        , 0.        , 0.        , 0.        ,\n",
       "       0.        , 0.        , 0.        , 0.        , 0.        ,\n",
       "       0.        , 0.        , 0.        , 0.        , 0.        ,\n",
       "       0.        , 0.        , 0.        , 0.        , 0.        ,\n",
       "       0.        , 0.        , 0.        , 0.        , 0.        ,\n",
       "       0.        , 0.        , 0.        , 0.        , 0.        ,\n",
       "       0.        , 0.        , 0.        , 0.        , 0.        ,\n",
       "       0.        , 0.        , 0.        , 0.        , 0.        ,\n",
       "       0.        , 0.        , 0.        , 0.        , 0.        ,\n",
       "       0.        , 0.        , 0.        , 0.        , 0.        ,\n",
       "       0.        , 0.        , 0.        , 0.        , 0.        ,\n",
       "       0.        , 0.        , 0.        , 0.        , 0.        ,\n",
       "       0.        , 0.        , 0.        , 0.        , 0.        ,\n",
       "       0.        , 0.        , 0.        , 0.        , 0.        ,\n",
       "       0.        , 0.        , 0.        , 0.        , 0.        ,\n",
       "       0.        , 0.        , 0.        , 0.        , 0.        ,\n",
       "       0.        , 0.        , 0.        , 0.        , 0.        ,\n",
       "       0.        , 0.        , 0.        , 0.        , 0.        ,\n",
       "       0.        , 0.        , 0.        , 0.        ])"
      ]
     },
     "execution_count": 11,
     "metadata": {},
     "output_type": "execute_result"
    }
   ],
   "source": [
    "x_train_flattened[0]"
   ]
  },
  {
   "cell_type": "code",
   "execution_count": 12,
   "id": "5520b9e3",
   "metadata": {},
   "outputs": [
    {
     "name": "stdout",
     "output_type": "stream",
     "text": [
      "Epoch 1/25\n",
      "1875/1875 [==============================] - 10s 5ms/step - loss: 0.4720 - accuracy: 0.8764\n",
      "Epoch 2/25\n",
      "1875/1875 [==============================] - 8s 4ms/step - loss: 0.3038 - accuracy: 0.9155\n",
      "Epoch 3/25\n",
      "1875/1875 [==============================] - 8s 4ms/step - loss: 0.2835 - accuracy: 0.9208\n",
      "Epoch 4/25\n",
      "1875/1875 [==============================] - 8s 4ms/step - loss: 0.2734 - accuracy: 0.9243\n",
      "Epoch 5/25\n",
      "1875/1875 [==============================] - 8s 4ms/step - loss: 0.2668 - accuracy: 0.9250\n",
      "Epoch 6/25\n",
      "1875/1875 [==============================] - 8s 4ms/step - loss: 0.2623 - accuracy: 0.9271\n",
      "Epoch 7/25\n",
      "1875/1875 [==============================] - 9s 5ms/step - loss: 0.2582 - accuracy: 0.9281\n",
      "Epoch 8/25\n",
      "1875/1875 [==============================] - 8s 4ms/step - loss: 0.2557 - accuracy: 0.9296\n",
      "Epoch 9/25\n",
      "1875/1875 [==============================] - 8s 4ms/step - loss: 0.2531 - accuracy: 0.9296\n",
      "Epoch 10/25\n",
      "1875/1875 [==============================] - 9s 5ms/step - loss: 0.2506 - accuracy: 0.9308\n",
      "Epoch 11/25\n",
      "1875/1875 [==============================] - 9s 5ms/step - loss: 0.2493 - accuracy: 0.9311\n",
      "Epoch 12/25\n",
      "1875/1875 [==============================] - 10s 5ms/step - loss: 0.2476 - accuracy: 0.9317\n",
      "Epoch 13/25\n",
      "1875/1875 [==============================] - 9s 5ms/step - loss: 0.2462 - accuracy: 0.9325\n",
      "Epoch 14/25\n",
      "1875/1875 [==============================] - 8s 4ms/step - loss: 0.2453 - accuracy: 0.9323\n",
      "Epoch 15/25\n",
      "1875/1875 [==============================] - 8s 4ms/step - loss: 0.2439 - accuracy: 0.9331\n",
      "Epoch 16/25\n",
      "1875/1875 [==============================] - 8s 4ms/step - loss: 0.2431 - accuracy: 0.9332\n",
      "Epoch 17/25\n",
      "1875/1875 [==============================] - 8s 4ms/step - loss: 0.2419 - accuracy: 0.9338\n",
      "Epoch 18/25\n",
      "1875/1875 [==============================] - 8s 4ms/step - loss: 0.2412 - accuracy: 0.9333\n",
      "Epoch 19/25\n",
      "1875/1875 [==============================] - 8s 4ms/step - loss: 0.2403 - accuracy: 0.9333\n",
      "Epoch 20/25\n",
      "1875/1875 [==============================] - 8s 4ms/step - loss: 0.2400 - accuracy: 0.9344\n",
      "Epoch 21/25\n",
      "1875/1875 [==============================] - 8s 4ms/step - loss: 0.2392 - accuracy: 0.9344\n",
      "Epoch 22/25\n",
      "1875/1875 [==============================] - 8s 4ms/step - loss: 0.2378 - accuracy: 0.9340\n",
      "Epoch 23/25\n",
      "1875/1875 [==============================] - 8s 4ms/step - loss: 0.2378 - accuracy: 0.9348\n",
      "Epoch 24/25\n",
      "1875/1875 [==============================] - 8s 4ms/step - loss: 0.2371 - accuracy: 0.9347\n",
      "Epoch 25/25\n",
      "1875/1875 [==============================] - 8s 4ms/step - loss: 0.2367 - accuracy: 0.9351\n"
     ]
    },
    {
     "data": {
      "text/plain": [
       "<keras.callbacks.History at 0x2b28879f730>"
      ]
     },
     "execution_count": 12,
     "metadata": {},
     "output_type": "execute_result"
    }
   ],
   "source": [
    "model=keras.Sequential(\n",
    "[\n",
    "    keras.layers.Dense(10, input_shape=(784,), activation=\"sigmoid\")\n",
    "])\n",
    "\n",
    "model.compile(optimizer=\"adam\", loss=\"sparse_categorical_crossentropy\", metrics=[\"accuracy\"])\n",
    "model.fit(x_train_flattened, y_train,epochs=25)"
   ]
  },
  {
   "cell_type": "code",
   "execution_count": 13,
   "id": "cf55e097",
   "metadata": {},
   "outputs": [
    {
     "name": "stdout",
     "output_type": "stream",
     "text": [
      "313/313 [==============================] - 1s 3ms/step\n"
     ]
    }
   ],
   "source": [
    "y_pred=model.predict(x_test_flattened)"
   ]
  },
  {
   "cell_type": "code",
   "execution_count": 14,
   "id": "e35c3cd4",
   "metadata": {},
   "outputs": [
    {
     "data": {
      "text/plain": [
       "2"
      ]
     },
     "execution_count": 14,
     "metadata": {},
     "output_type": "execute_result"
    }
   ],
   "source": [
    "# a=y_pred[0]\n",
    "# maxi=max(a)\n",
    "# for i in range(len(a)):\n",
    "#     if a[i]==maxi:\n",
    "#         index=i\n",
    "# print(index)\n",
    "np.argmax(y_pred[1])"
   ]
  },
  {
   "cell_type": "code",
   "execution_count": 15,
   "id": "cd21763f",
   "metadata": {},
   "outputs": [],
   "source": [
    "y_pred_labels=[ np.argmax(i) for i in y_pred ]"
   ]
  },
  {
   "cell_type": "code",
   "execution_count": 16,
   "id": "b7140e01",
   "metadata": {
    "scrolled": true
   },
   "outputs": [
    {
     "data": {
      "text/plain": [
       "<tf.Tensor: shape=(10, 10), dtype=int32, numpy=\n",
       "array([[ 959,    0,    0,    2,    1,    6,    8,    3,    1,    0],\n",
       "       [   0, 1119,    3,    1,    0,    1,    4,    2,    5,    0],\n",
       "       [   5,   11,  938,   11,    6,    3,   11,   10,   33,    4],\n",
       "       [   4,    0,   23,  911,    0,   26,    4,   11,   25,    6],\n",
       "       [   1,    3,   10,    1,  898,    0,   13,    6,    8,   42],\n",
       "       [  11,    3,    3,   29,    5,  784,   15,    8,   30,    4],\n",
       "       [  12,    3,    9,    1,    7,   12,  912,    1,    1,    0],\n",
       "       [   1,    7,   25,    4,    4,    1,    0,  951,    3,   32],\n",
       "       [   8,   16,    7,   18,    7,   27,   11,   10,  861,    9],\n",
       "       [  10,    8,    1,    8,   16,    8,    0,   21,    6,  931]])>"
      ]
     },
     "execution_count": 16,
     "metadata": {},
     "output_type": "execute_result"
    }
   ],
   "source": [
    "cm=tf.math.confusion_matrix(labels=y_test, predictions=y_pred_labels)\n",
    "cm"
   ]
  },
  {
   "cell_type": "code",
   "execution_count": 17,
   "id": "07ddd029",
   "metadata": {},
   "outputs": [
    {
     "data": {
      "text/plain": [
       "0.9264"
      ]
     },
     "execution_count": 17,
     "metadata": {},
     "output_type": "execute_result"
    }
   ],
   "source": [
    "from sklearn.metrics import accuracy_score\n",
    "accuracy_score(y_test, y_pred_labels)"
   ]
  },
  {
   "cell_type": "code",
   "execution_count": 18,
   "id": "1c4af4f5",
   "metadata": {},
   "outputs": [
    {
     "data": {
      "text/plain": [
       "Text(95.72222222222221, 0.5, 'Truth')"
      ]
     },
     "execution_count": 18,
     "metadata": {},
     "output_type": "execute_result"
    },
    {
     "data": {
      "image/png": "[encoded data removed]",
      "text/plain": [
       "<Figure size 1000x700 with 2 Axes>"
      ]
     },
     "metadata": {},
     "output_type": "display_data"
    }
   ],
   "source": [
    "import seaborn as sn\n",
    "plt.figure(figsize=(10,7))\n",
    "sn.heatmap(cm, annot=True, fmt=\"d\")\n",
    "plt.xlabel(\"Predicted\")\n",
    "plt.ylabel(\"Truth\")"
   ]
  },
  {
   "cell_type": "code",
   "execution_count": 19,
   "id": "14f3cafa",
   "metadata": {},
   "outputs": [
    {
     "name": "stdout",
     "output_type": "stream",
     "text": [
      "Epoch 1/25\n",
      "1875/1875 [==============================] - 11s 6ms/step - loss: 0.2692 - accuracy: 0.9239\n",
      "Epoch 2/25\n",
      "1875/1875 [==============================] - 10s 5ms/step - loss: 0.1204 - accuracy: 0.9639\n",
      "Epoch 3/25\n",
      "1875/1875 [==============================] - 10s 5ms/step - loss: 0.0837 - accuracy: 0.9747\n",
      "Epoch 4/25\n",
      "1875/1875 [==============================] - 10s 5ms/step - loss: 0.0637 - accuracy: 0.9802\n",
      "Epoch 5/25\n",
      "1875/1875 [==============================] - 10s 5ms/step - loss: 0.0499 - accuracy: 0.9851\n",
      "Epoch 6/25\n",
      "1875/1875 [==============================] - 10s 5ms/step - loss: 0.0415 - accuracy: 0.9871\n",
      "Epoch 7/25\n",
      "1875/1875 [==============================] - 10s 5ms/step - loss: 0.0328 - accuracy: 0.9901\n",
      "Epoch 8/25\n",
      "1875/1875 [==============================] - 10s 5ms/step - loss: 0.0276 - accuracy: 0.9915\n",
      "Epoch 9/25\n",
      "1875/1875 [==============================] - 10s 5ms/step - loss: 0.0227 - accuracy: 0.9930\n",
      "Epoch 10/25\n",
      "1875/1875 [==============================] - 10s 5ms/step - loss: 0.0191 - accuracy: 0.9941\n",
      "Epoch 11/25\n",
      "1875/1875 [==============================] - 10s 5ms/step - loss: 0.0166 - accuracy: 0.9951\n",
      "Epoch 12/25\n",
      "1875/1875 [==============================] - 10s 5ms/step - loss: 0.0132 - accuracy: 0.9960\n",
      "Epoch 13/25\n",
      "1875/1875 [==============================] - 10s 5ms/step - loss: 0.0125 - accuracy: 0.9960\n",
      "Epoch 14/25\n",
      "1875/1875 [==============================] - 10s 5ms/step - loss: 0.0106 - accuracy: 0.9966\n",
      "Epoch 15/25\n",
      "1875/1875 [==============================] - 10s 5ms/step - loss: 0.0089 - accuracy: 0.9974\n",
      "Epoch 16/25\n",
      "1875/1875 [==============================] - 10s 5ms/step - loss: 0.0073 - accuracy: 0.9977\n",
      "Epoch 17/25\n",
      "1875/1875 [==============================] - 10s 5ms/step - loss: 0.0084 - accuracy: 0.9972\n",
      "Epoch 18/25\n",
      "1875/1875 [==============================] - 10s 5ms/step - loss: 0.0065 - accuracy: 0.9981\n",
      "Epoch 19/25\n",
      "1875/1875 [==============================] - 10s 5ms/step - loss: 0.0062 - accuracy: 0.9981\n",
      "Epoch 20/25\n",
      "1875/1875 [==============================] - 10s 5ms/step - loss: 0.0068 - accuracy: 0.9979\n",
      "Epoch 21/25\n",
      "1875/1875 [==============================] - 10s 5ms/step - loss: 0.0056 - accuracy: 0.9982\n",
      "Epoch 22/25\n",
      "1875/1875 [==============================] - 10s 5ms/step - loss: 0.0056 - accuracy: 0.9983\n",
      "Epoch 23/25\n",
      "1875/1875 [==============================] - 10s 5ms/step - loss: 0.0060 - accuracy: 0.9981\n",
      "Epoch 24/25\n",
      "1875/1875 [==============================] - 9s 5ms/step - loss: 0.0043 - accuracy: 0.9987\n",
      "Epoch 25/25\n",
      "1875/1875 [==============================] - 5s 3ms/step - loss: 0.0055 - accuracy: 0.9982\n"
     ]
    },
    {
     "data": {
      "text/plain": [
       "<keras.callbacks.History at 0x2b28b955630>"
      ]
     },
     "execution_count": 19,
     "metadata": {},
     "output_type": "execute_result"
    }
   ],
   "source": [
    "model2=keras.Sequential([\n",
    "    keras.layers.Dense(100, input_shape=(784,), activation=\"relu\"),\n",
    "    keras.layers.Dense(10, activation=\"sigmoid\")\n",
    "])\n",
    "\n",
    "tb_callback =keras.callbacks.TensorBoard(log_dir=\"/logs\", histogram_freq=1)\n",
    "model2.compile(optimizer=\"adam\", loss=\"sparse_categorical_crossentropy\", metrics=[\"accuracy\"])\n",
    "model2.fit(x_train_flattened, y_train, epochs=25, callbacks=[tb_callback])"
   ]
  },
  {
   "cell_type": "code",
   "execution_count": 20,
   "id": "4b844b38",
   "metadata": {},
   "outputs": [
    {
     "name": "stdout",
     "output_type": "stream",
     "text": [
      "313/313 [==============================] - 1s 2ms/step\n"
     ]
    }
   ],
   "source": [
    "y_pred2=model2.predict(x_test_flattened)"
   ]
  },
  {
   "cell_type": "code",
   "execution_count": 21,
   "id": "f67a832e",
   "metadata": {},
   "outputs": [],
   "source": [
    "y_pred2_labels=[np.argmax(i) for i in y_pred2]"
   ]
  },
  {
   "cell_type": "code",
   "execution_count": 22,
   "id": "837c4efc",
   "metadata": {},
   "outputs": [
    {
     "data": {
      "text/plain": [
       "<tf.Tensor: shape=(10, 10), dtype=int32, numpy=\n",
       "array([[ 969,    0,    3,    0,    0,    1,    3,    1,    2,    1],\n",
       "       [   0, 1126,    3,    1,    0,    0,    1,    1,    3,    0],\n",
       "       [   1,    1, 1016,    1,    1,    1,    2,    5,    4,    0],\n",
       "       [   0,    0,    6,  982,    0,   10,    0,    4,    3,    5],\n",
       "       [   1,    0,    3,    1,  962,    1,    2,    2,    2,    8],\n",
       "       [   2,    1,    0,   11,    1,  868,    2,    2,    4,    1],\n",
       "       [   4,    3,    2,    1,    3,    8,  934,    0,    3,    0],\n",
       "       [   0,    6,    7,    5,    0,    0,    0, 1004,    1,    5],\n",
       "       [   2,    1,    1,   14,    4,    2,    0,    5,  942,    3],\n",
       "       [   2,    3,    0,    2,    7,    3,    1,    7,    3,  981]])>"
      ]
     },
     "execution_count": 22,
     "metadata": {},
     "output_type": "execute_result"
    }
   ],
   "source": [
    "cm2=tf.math.confusion_matrix(labels=y_test, predictions=y_pred2_labels)\n",
    "cm2"
   ]
  },
  {
   "cell_type": "code",
   "execution_count": 23,
   "id": "f8ec17e1",
   "metadata": {},
   "outputs": [
    {
     "data": {
      "text/plain": [
       "Text(95.72222222222221, 0.5, 'Truth')"
      ]
     },
     "execution_count": 23,
     "metadata": {},
     "output_type": "execute_result"
    },
    {
     "data": {
      "image/png": "[encoded data removed]",
      "text/plain": [
       "<Figure size 1000x700 with 2 Axes>"
      ]
     },
     "metadata": {},
     "output_type": "display_data"
    }
   ],
   "source": [
    "plt.figure(figsize=(10,7))\n",
    "sn.heatmap(cm2, annot=True, fmt=\"d\")\n",
    "plt.xlabel(\"Predicted\")\n",
    "plt.ylabel(\"Truth\")"
   ]
  },
  {
   "cell_type": "code",
   "execution_count": 24,
   "id": "e817ea41",
   "metadata": {},
   "outputs": [
    {
     "data": {
      "text/plain": [
       "0.9784"
      ]
     },
     "execution_count": 24,
     "metadata": {},
     "output_type": "execute_result"
    }
   ],
   "source": [
    "accuracy_score(y_test, y_pred2_labels)"
   ]
  },
  {
   "cell_type": "code",
   "execution_count": 25,
   "id": "e9d0b8b1",
   "metadata": {},
   "outputs": [
    {
     "name": "stdout",
     "output_type": "stream",
     "text": [
      "INFO:tensorflow:Assets written to: ./saved_model\\assets\n"
     ]
    }
   ],
   "source": [
    "model2.save(\"./saved_model\")"
   ]
  },
  {
   "cell_type": "markdown",
   "id": "a08997fd",
   "metadata": {},
   "source": [
    "# Post training optimization"
   ]
  },
  {
   "cell_type": "markdown",
   "id": "234f8e40",
   "metadata": {},
   "source": [
    "WITHOUT QUANTIZATION"
   ]
  },
  {
   "cell_type": "code",
   "execution_count": 27,
   "id": "733c99d4",
   "metadata": {},
   "outputs": [],
   "source": [
    "converter=tf.lite.TFLiteConverter.from_saved_model(\"./saved_model\")\n",
    "tflite_model=converter.convert()"
   ]
  },
  {
   "cell_type": "code",
   "execution_count": 28,
   "id": "f94e04a9",
   "metadata": {},
   "outputs": [
    {
     "data": {
      "text/plain": [
       "319724"
      ]
     },
     "execution_count": 28,
     "metadata": {},
     "output_type": "execute_result"
    }
   ],
   "source": [
    "len(tflite_model)"
   ]
  },
  {
   "cell_type": "code",
   "execution_count": null,
   "id": "c6fb0429",
   "metadata": {},
   "outputs": [],
   "source": []
  }
 ],
 "metadata": {
  "kernelspec": {
   "display_name": "Python 3 (ipykernel)",
   "language": "python",
   "name": "python3"
  },
  "language_info": {
   "codemirror_mode": {
    "name": "ipython",
    "version": 3
   },
   "file_extension": ".py",
   "mimetype": "text/x-python",
   "name": "python",
   "nbconvert_exporter": "python",
   "pygments_lexer": "ipython3",
   "version": "3.10.5"
  }
 },
 "nbformat": 4,
 "nbformat_minor": 5
}
